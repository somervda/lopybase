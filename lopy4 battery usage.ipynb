{
 "cells": [
  {
   "cell_type": "markdown",
   "metadata": {},
   "source": [
    "## LoPy4 Battery Tests\n",
    "I wanted to test my LoPy4 battery usage under various usage sceanios. All tests were sending 2 Lorawan uploads (Location and sensor data) and then performing a deepsleep for a range of seconds (10,20,60,300,1200). The Scenarios were run until my power metter had seen at least 20mAh or current used and then the average current use per hour was recorded. The data and results are shown after this.\n",
    "\n",
    "### A: Pycom Expansion Board with LEDs\n",
    "In this setup I am running the lopy4 board on the pycom expansion board V3.1 see https://docs.pycom.io/datasheets/expansionboards/expansion3/ & https://github.com/wipy/wipy/blob/master/docs/User_manual_exp_board.pdf . This expansion board has a LED on it that glow all the time (i.e. the USB LED) so will have some extra power draw even when the lopy4 is in deepsleep.\n",
    "\n",
    "![Pycom Expansion Board V3](images/expv3.jpg \"Expansion Board V3\")\n",
    "\n",
    "### B: Bread Board with LED\n",
    "This setup I set up a minimal breadboard configuration so deepsleep should have power usage closer to my final version. In this set of measurements I am blinking the lopy4 LED in different colors and duration to indicate where the lopy4 is in the active lifecyple process i.e. Setup->Joining->Sending->Going to sleep . \n",
    "\n",
    "![Breadboard lopy4 with LED](images/breadLED.jpg \"Breadboard lopy4 with LED\")\n",
    "\n",
    "\n"
   ]
  }
 ],
 "metadata": {
  "kernelspec": {
   "display_name": "Python 3",
   "language": "python",
   "name": "python3"
  },
  "language_info": {
   "codemirror_mode": {
    "name": "ipython",
    "version": 3
   },
   "file_extension": ".py",
   "mimetype": "text/x-python",
   "name": "python",
   "nbconvert_exporter": "python",
   "pygments_lexer": "ipython3",
   "version": "3.7.4-final"
  }
 },
 "nbformat": 4,
 "nbformat_minor": 4
}