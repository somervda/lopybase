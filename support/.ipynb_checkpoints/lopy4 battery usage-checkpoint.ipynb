{
 "cells": [
  {
   "cell_type": "markdown",
   "metadata": {},
   "source": [
    "## LoPy4 Battery Tests\n",
    "I wanted to test my LoPy4 battery usage under various usage sceanios. All tests were sending 2 Lorawan uploads (Location and sensor data) and then performing a deepsleep for n seconds. The Scenarios were\n",
    "\n",
    "### pycom Expansion Board\n"
   ]
  }
 ],
 "metadata": {
  "kernelspec": {
   "display_name": "Python 3",
   "language": "python",
   "name": "python3"
  },
  "language_info": {
   "codemirror_mode": {
    "name": "ipython",
    "version": 3
   },
   "file_extension": ".py",
   "mimetype": "text/x-python",
   "name": "python",
   "nbconvert_exporter": "python",
   "pygments_lexer": "ipython3",
   "version": "3.7.4"
  }
 },
 "nbformat": 4,
 "nbformat_minor": 4
}
